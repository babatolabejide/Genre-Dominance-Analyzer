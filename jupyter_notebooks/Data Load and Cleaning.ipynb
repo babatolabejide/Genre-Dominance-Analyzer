{
  "cells": [
    {
      "cell_type": "markdown",
      "metadata": {
        "id": "0aStgWSO0E0E"
      },
      "source": [
        "# **Genre Dominance Analyzer**"
      ]
    },
    {
      "cell_type": "markdown",
      "metadata": {
        "id": "1eLEkw5O0ECa"
      },
      "source": [
        "## Objectives\n",
        "\n",
        "- Clean and prepare the dataset for analysis.\n",
        "- Analyze genre dominance by ratings and playtime.\n",
        "- Visualize trends for the dashboard (line plot, bar plot, scatter plot, heatmap).\n",
        "\n",
        "## Inputs\n",
        "- **Dataset File**: The raw CSV file from Kaggle containing video game data (e.g., `Title`, `Release Date`, `Genre`, `Rating`, `Avg Playtime`).\n",
        "- **Python Libraries**: `pandas`, `numpy`, `matplotlib`, `seaborn`, `plotly` (installed via `requirements.txt`).\n",
        "- **Environment**: A Python virtual environment set up in VS Code with the Jupyter extension.\n",
        "\n",
        "\n",
        "## Outputs\n",
        "\n",
        "- **Cleaned Dataset**: - Processed dataset with standardized genres and filled missing values.\n",
        "- **Statistics File**: - CSV with mean, median, and std of ratings and playtime per genre.\n",
        "- **Visualization Files**: \n",
        "  - Interactive line plot of genre rating trends.\n",
        "  - Interactive bar plot of top genres by rating count.\n",
        "  - Interactive scatter plot of emerging genres.\n",
        "  - Interactive heatmap of genre-platform correlations.\n",
        "- **Notebook**: This file (`.ipynb`) with EDA code, static plots, and documentation.\n",
        "\n",
        "## Additional Comments\n",
        "\n",
        "- **Dataset Assumptions**: Assumed median imputation for missing ratings/playtime is reasonable due to skewed distributions; alternatives like mean could bias results.\n",
        "- **Genre Standardization**: Combined similar genres (e.g., 'Action-Adventure' to 'Action Adventure') for consistency, though this may oversimplify nuanced categories.\n",
        "- **AI Assistance**: Used AI to refine code snippets (e.g., Plotly styling) and brainstorm visualization ideas, credited in README.\n",
        "- **Limitations**: Dataset lacks real-time player feedback; future iterations could scrape reviews for sentiment analysis if scope expands.\n"
      ]
    },
    {
      "cell_type": "markdown",
      "metadata": {
        "id": "9uWZXH9LwoQg"
      },
      "source": [
        "---"
      ]
    },
    {
      "cell_type": "markdown",
      "metadata": {
        "id": "cqP-UeN-z3i2"
      },
      "source": [
        "# Working directory"
      ]
    },
    {
      "cell_type": "markdown",
      "metadata": {
        "id": "aOGIGS-uz3i2"
      },
      "source": [
        "\n",
        "* We access the current directory with os.getcwd()"
      ]
    },
    {
      "cell_type": "code",
      "execution_count": 36,
      "metadata": {
        "id": "wZfF_j-Bz3i4",
        "outputId": "66943449-1436-4c3d-85c7-b85f9f78349b"
      },
      "outputs": [
        {
          "data": {
            "text/plain": [
              "'c:\\\\Users\\\\babat\\\\Downloads'"
            ]
          },
          "execution_count": 36,
          "metadata": {},
          "output_type": "execute_result"
        }
      ],
      "source": [
        "import os\n",
        "current_dir = os.getcwd()\n",
        "current_dir"
      ]
    },
    {
      "cell_type": "markdown",
      "metadata": {
        "id": "9MWW8E7lz3i7"
      },
      "source": [
        "We want to make the parent of the current directory the new current directory\n",
        "* os.path.dirname() gets the parent directory\n",
        "* os.chir() defines the new current directory"
      ]
    },
    {
      "cell_type": "code",
      "execution_count": 24,
      "metadata": {
        "id": "TwHsQRWjz3i9",
        "outputId": "86849db3-cd2f-4cc5-ebb8-2d0caafa1a2c"
      },
      "outputs": [
        {
          "name": "stdout",
          "output_type": "stream",
          "text": [
            "You set a new current directory\n"
          ]
        }
      ],
      "source": [
        "os.chdir(os.path.dirname(current_dir))\n",
        "print(\"You set a new current directory\")"
      ]
    },
    {
      "cell_type": "markdown",
      "metadata": {
        "id": "M_xPk_Ijz3i-"
      },
      "source": [
        "Confirm the new current directory"
      ]
    },
    {
      "cell_type": "code",
      "execution_count": 25,
      "metadata": {
        "id": "vz3S-_kjz3jA",
        "outputId": "00b79ae4-75d0-4a96-d193-ac9ef9847ea2"
      },
      "outputs": [
        {
          "data": {
            "text/plain": [
              "'c:\\\\Users\\\\babat\\\\Downloads'"
            ]
          },
          "execution_count": 25,
          "metadata": {},
          "output_type": "execute_result"
        }
      ],
      "source": [
        "current_dir = os.getcwd()\n",
        "current_dir"
      ]
    },
    {
      "cell_type": "markdown",
      "metadata": {
        "id": "-mavJ8DibrcQ"
      },
      "source": [
        "# Section 1"
      ]
    },
    {
      "cell_type": "markdown",
      "metadata": {},
      "source": [
        "Import Libraries and Load Data"
      ]
    },
    {
      "cell_type": "code",
      "execution_count": 26,
      "metadata": {},
      "outputs": [],
      "source": [
        "import pandas as pd\n",
        "import numpy as np\n",
        "import matplotlib.pyplot as plt\n",
        "import seaborn as sns\n",
        "import plotly.express as px\n",
        "\n",
        "# Set plotting style\n",
        "sns.set(style=\"whitegrid\")\n",
        "%matplotlib inline"
      ]
    },
    {
      "cell_type": "code",
      "execution_count": 27,
      "metadata": {},
      "outputs": [
        {
          "name": "stdout",
          "output_type": "stream",
          "text": [
            "Dataset Info:\n",
            "<class 'pandas.core.frame.DataFrame'>\n",
            "RangeIndex: 1512 entries, 0 to 1511\n",
            "Data columns (total 14 columns):\n",
            " #   Column             Non-Null Count  Dtype  \n",
            "---  ------             --------------  -----  \n",
            " 0   Unnamed: 0         1512 non-null   int64  \n",
            " 1   Title              1512 non-null   object \n",
            " 2   Release Date       1512 non-null   object \n",
            " 3   Team               1511 non-null   object \n",
            " 4   Rating             1499 non-null   float64\n",
            " 5   Times Listed       1512 non-null   object \n",
            " 6   Number of Reviews  1512 non-null   object \n",
            " 7   Genres             1512 non-null   object \n",
            " 8   Summary            1511 non-null   object \n",
            " 9   Reviews            1512 non-null   object \n",
            " 10  Plays              1512 non-null   object \n",
            " 11  Playing            1512 non-null   object \n",
            " 12  Backlogs           1512 non-null   object \n",
            " 13  Wishlist           1512 non-null   object \n",
            "dtypes: float64(1), int64(1), object(12)\n",
            "memory usage: 165.5+ KB\n",
            "None\n",
            "\n",
            "First 5 Rows:\n"
          ]
        },
        {
          "data": {
            "text/html": [
              "<div>\n",
              "<style scoped>\n",
              "    .dataframe tbody tr th:only-of-type {\n",
              "        vertical-align: middle;\n",
              "    }\n",
              "\n",
              "    .dataframe tbody tr th {\n",
              "        vertical-align: top;\n",
              "    }\n",
              "\n",
              "    .dataframe thead th {\n",
              "        text-align: right;\n",
              "    }\n",
              "</style>\n",
              "<table border=\"1\" class=\"dataframe\">\n",
              "  <thead>\n",
              "    <tr style=\"text-align: right;\">\n",
              "      <th></th>\n",
              "      <th>Unnamed: 0</th>\n",
              "      <th>Title</th>\n",
              "      <th>Release Date</th>\n",
              "      <th>Team</th>\n",
              "      <th>Rating</th>\n",
              "      <th>Times Listed</th>\n",
              "      <th>Number of Reviews</th>\n",
              "      <th>Genres</th>\n",
              "      <th>Summary</th>\n",
              "      <th>Reviews</th>\n",
              "      <th>Plays</th>\n",
              "      <th>Playing</th>\n",
              "      <th>Backlogs</th>\n",
              "      <th>Wishlist</th>\n",
              "    </tr>\n",
              "  </thead>\n",
              "  <tbody>\n",
              "    <tr>\n",
              "      <th>0</th>\n",
              "      <td>0</td>\n",
              "      <td>Elden Ring</td>\n",
              "      <td>Feb 25, 2022</td>\n",
              "      <td>['Bandai Namco Entertainment', 'FromSoftware']</td>\n",
              "      <td>4.5</td>\n",
              "      <td>3.9K</td>\n",
              "      <td>3.9K</td>\n",
              "      <td>['Adventure', 'RPG']</td>\n",
              "      <td>Elden Ring is a fantasy, action and open world...</td>\n",
              "      <td>[\"The first playthrough of elden ring is one o...</td>\n",
              "      <td>17K</td>\n",
              "      <td>3.8K</td>\n",
              "      <td>4.6K</td>\n",
              "      <td>4.8K</td>\n",
              "    </tr>\n",
              "    <tr>\n",
              "      <th>1</th>\n",
              "      <td>1</td>\n",
              "      <td>Hades</td>\n",
              "      <td>Dec 10, 2019</td>\n",
              "      <td>['Supergiant Games']</td>\n",
              "      <td>4.3</td>\n",
              "      <td>2.9K</td>\n",
              "      <td>2.9K</td>\n",
              "      <td>['Adventure', 'Brawler', 'Indie', 'RPG']</td>\n",
              "      <td>A rogue-lite hack and slash dungeon crawler in...</td>\n",
              "      <td>['convinced this is a roguelike for people who...</td>\n",
              "      <td>21K</td>\n",
              "      <td>3.2K</td>\n",
              "      <td>6.3K</td>\n",
              "      <td>3.6K</td>\n",
              "    </tr>\n",
              "    <tr>\n",
              "      <th>2</th>\n",
              "      <td>2</td>\n",
              "      <td>The Legend of Zelda: Breath of the Wild</td>\n",
              "      <td>Mar 03, 2017</td>\n",
              "      <td>['Nintendo', 'Nintendo EPD Production Group No...</td>\n",
              "      <td>4.4</td>\n",
              "      <td>4.3K</td>\n",
              "      <td>4.3K</td>\n",
              "      <td>['Adventure', 'RPG']</td>\n",
              "      <td>The Legend of Zelda: Breath of the Wild is the...</td>\n",
              "      <td>['This game is the game (that is not CS:GO) th...</td>\n",
              "      <td>30K</td>\n",
              "      <td>2.5K</td>\n",
              "      <td>5K</td>\n",
              "      <td>2.6K</td>\n",
              "    </tr>\n",
              "    <tr>\n",
              "      <th>3</th>\n",
              "      <td>3</td>\n",
              "      <td>Undertale</td>\n",
              "      <td>Sep 15, 2015</td>\n",
              "      <td>['tobyfox', '8-4']</td>\n",
              "      <td>4.2</td>\n",
              "      <td>3.5K</td>\n",
              "      <td>3.5K</td>\n",
              "      <td>['Adventure', 'Indie', 'RPG', 'Turn Based Stra...</td>\n",
              "      <td>A small child falls into the Underground, wher...</td>\n",
              "      <td>['soundtrack is tied for #1 with nier automata...</td>\n",
              "      <td>28K</td>\n",
              "      <td>679</td>\n",
              "      <td>4.9K</td>\n",
              "      <td>1.8K</td>\n",
              "    </tr>\n",
              "    <tr>\n",
              "      <th>4</th>\n",
              "      <td>4</td>\n",
              "      <td>Hollow Knight</td>\n",
              "      <td>Feb 24, 2017</td>\n",
              "      <td>['Team Cherry']</td>\n",
              "      <td>4.4</td>\n",
              "      <td>3K</td>\n",
              "      <td>3K</td>\n",
              "      <td>['Adventure', 'Indie', 'Platform']</td>\n",
              "      <td>A 2D metroidvania with an emphasis on close co...</td>\n",
              "      <td>[\"this games worldbuilding is incredible, with...</td>\n",
              "      <td>21K</td>\n",
              "      <td>2.4K</td>\n",
              "      <td>8.3K</td>\n",
              "      <td>2.3K</td>\n",
              "    </tr>\n",
              "  </tbody>\n",
              "</table>\n",
              "</div>"
            ],
            "text/plain": [
              "   Unnamed: 0                                    Title  Release Date  \\\n",
              "0           0                               Elden Ring  Feb 25, 2022   \n",
              "1           1                                    Hades  Dec 10, 2019   \n",
              "2           2  The Legend of Zelda: Breath of the Wild  Mar 03, 2017   \n",
              "3           3                                Undertale  Sep 15, 2015   \n",
              "4           4                            Hollow Knight  Feb 24, 2017   \n",
              "\n",
              "                                                Team  Rating Times Listed  \\\n",
              "0     ['Bandai Namco Entertainment', 'FromSoftware']     4.5         3.9K   \n",
              "1                               ['Supergiant Games']     4.3         2.9K   \n",
              "2  ['Nintendo', 'Nintendo EPD Production Group No...     4.4         4.3K   \n",
              "3                                 ['tobyfox', '8-4']     4.2         3.5K   \n",
              "4                                    ['Team Cherry']     4.4           3K   \n",
              "\n",
              "  Number of Reviews                                             Genres  \\\n",
              "0              3.9K                               ['Adventure', 'RPG']   \n",
              "1              2.9K           ['Adventure', 'Brawler', 'Indie', 'RPG']   \n",
              "2              4.3K                               ['Adventure', 'RPG']   \n",
              "3              3.5K  ['Adventure', 'Indie', 'RPG', 'Turn Based Stra...   \n",
              "4                3K                 ['Adventure', 'Indie', 'Platform']   \n",
              "\n",
              "                                             Summary  \\\n",
              "0  Elden Ring is a fantasy, action and open world...   \n",
              "1  A rogue-lite hack and slash dungeon crawler in...   \n",
              "2  The Legend of Zelda: Breath of the Wild is the...   \n",
              "3  A small child falls into the Underground, wher...   \n",
              "4  A 2D metroidvania with an emphasis on close co...   \n",
              "\n",
              "                                             Reviews Plays Playing Backlogs  \\\n",
              "0  [\"The first playthrough of elden ring is one o...   17K    3.8K     4.6K   \n",
              "1  ['convinced this is a roguelike for people who...   21K    3.2K     6.3K   \n",
              "2  ['This game is the game (that is not CS:GO) th...   30K    2.5K       5K   \n",
              "3  ['soundtrack is tied for #1 with nier automata...   28K     679     4.9K   \n",
              "4  [\"this games worldbuilding is incredible, with...   21K    2.4K     8.3K   \n",
              "\n",
              "  Wishlist  \n",
              "0     4.8K  \n",
              "1     3.6K  \n",
              "2     2.6K  \n",
              "3     1.8K  \n",
              "4     2.3K  "
            ]
          },
          "metadata": {},
          "output_type": "display_data"
        },
        {
          "name": "stdout",
          "output_type": "stream",
          "text": [
            "\n",
            "Missing Values:\n",
            "Unnamed: 0            0\n",
            "Title                 0\n",
            "Release Date          0\n",
            "Team                  1\n",
            "Rating               13\n",
            "Times Listed          0\n",
            "Number of Reviews     0\n",
            "Genres                0\n",
            "Summary               1\n",
            "Reviews               0\n",
            "Plays                 0\n",
            "Playing               0\n",
            "Backlogs              0\n",
            "Wishlist              0\n",
            "dtype: int64\n"
          ]
        }
      ],
      "source": [
        "# Load dataset\n",
        "df = pd.read_csv(r\"C:\\Users\\babat\\Downloads\\vs code\\Genre-Dominance-Analyzer-2\\input\\games.csv\")\n",
        "\n",
        "# Display basic info\n",
        "print(\"Dataset Info:\")\n",
        "print(df.info())\n",
        "print(\"\\nFirst 5 Rows:\")\n",
        "display(df.head())\n",
        "\n",
        "# Check for missing values\n",
        "print(\"\\nMissing Values:\")\n",
        "print(df.isnull().sum())"
      ]
    },
    {
      "cell_type": "markdown",
      "metadata": {
        "id": "ZY3l0-AxO93d"
      },
      "source": [
        "---"
      ]
    },
    {
      "cell_type": "markdown",
      "metadata": {
        "id": "uFQo3ycuO-v6"
      },
      "source": [
        "# Section 2"
      ]
    },
    {
      "cell_type": "markdown",
      "metadata": {},
      "source": [
        "Clean the Data"
      ]
    },
    {
      "cell_type": "code",
      "execution_count": 37,
      "metadata": {},
      "outputs": [
        {
          "name": "stdout",
          "output_type": "stream",
          "text": [
            "Rows before cleaning: 1512\n",
            "\n",
            "Cleaned Dataset Info:\n",
            "<class 'pandas.core.frame.DataFrame'>\n",
            "Index: 1096 entries, 0 to 1511\n",
            "Data columns (total 11 columns):\n",
            " #   Column             Non-Null Count  Dtype         \n",
            "---  ------             --------------  -----         \n",
            " 0   Title              1096 non-null   object        \n",
            " 1   Release Date       1096 non-null   datetime64[ns]\n",
            " 2   Team               1096 non-null   object        \n",
            " 3   Rating             1096 non-null   float64       \n",
            " 4   Number of Reviews  1096 non-null   Int64         \n",
            " 5   Genres             1096 non-null   object        \n",
            " 6   Plays              1096 non-null   Int64         \n",
            " 7   Playing            1096 non-null   Int64         \n",
            " 8   Backlogs           1096 non-null   Int64         \n",
            " 9   Wishlist           1096 non-null   Int64         \n",
            " 10  Year               1096 non-null   Int64         \n",
            "dtypes: Int64(6), datetime64[ns](1), float64(1), object(3)\n",
            "memory usage: 109.2+ KB\n",
            "None\n",
            "\n",
            "First 5 Rows of Cleaned Data:\n"
          ]
        },
        {
          "data": {
            "text/html": [
              "<div>\n",
              "<style scoped>\n",
              "    .dataframe tbody tr th:only-of-type {\n",
              "        vertical-align: middle;\n",
              "    }\n",
              "\n",
              "    .dataframe tbody tr th {\n",
              "        vertical-align: top;\n",
              "    }\n",
              "\n",
              "    .dataframe thead th {\n",
              "        text-align: right;\n",
              "    }\n",
              "</style>\n",
              "<table border=\"1\" class=\"dataframe\">\n",
              "  <thead>\n",
              "    <tr style=\"text-align: right;\">\n",
              "      <th></th>\n",
              "      <th>Title</th>\n",
              "      <th>Release Date</th>\n",
              "      <th>Team</th>\n",
              "      <th>Rating</th>\n",
              "      <th>Number of Reviews</th>\n",
              "      <th>Genres</th>\n",
              "      <th>Plays</th>\n",
              "      <th>Playing</th>\n",
              "      <th>Backlogs</th>\n",
              "      <th>Wishlist</th>\n",
              "      <th>Year</th>\n",
              "    </tr>\n",
              "  </thead>\n",
              "  <tbody>\n",
              "    <tr>\n",
              "      <th>0</th>\n",
              "      <td>Elden Ring</td>\n",
              "      <td>2022-02-25</td>\n",
              "      <td>['Bandai Namco Entertainment', 'FromSoftware']</td>\n",
              "      <td>4.5</td>\n",
              "      <td>3900</td>\n",
              "      <td>['Adventure', 'Rpg']</td>\n",
              "      <td>17000</td>\n",
              "      <td>3800</td>\n",
              "      <td>4600</td>\n",
              "      <td>4800</td>\n",
              "      <td>2022</td>\n",
              "    </tr>\n",
              "    <tr>\n",
              "      <th>1</th>\n",
              "      <td>Hades</td>\n",
              "      <td>2019-12-10</td>\n",
              "      <td>['Supergiant Games']</td>\n",
              "      <td>4.3</td>\n",
              "      <td>2900</td>\n",
              "      <td>['Adventure', 'Brawler', 'Indie', 'Rpg']</td>\n",
              "      <td>21000</td>\n",
              "      <td>3200</td>\n",
              "      <td>6300</td>\n",
              "      <td>3600</td>\n",
              "      <td>2019</td>\n",
              "    </tr>\n",
              "    <tr>\n",
              "      <th>2</th>\n",
              "      <td>The Legend of Zelda: Breath of the Wild</td>\n",
              "      <td>2017-03-03</td>\n",
              "      <td>['Nintendo', 'Nintendo EPD Production Group No...</td>\n",
              "      <td>4.4</td>\n",
              "      <td>4300</td>\n",
              "      <td>['Adventure', 'Rpg']</td>\n",
              "      <td>30000</td>\n",
              "      <td>2500</td>\n",
              "      <td>5000</td>\n",
              "      <td>2600</td>\n",
              "      <td>2017</td>\n",
              "    </tr>\n",
              "    <tr>\n",
              "      <th>3</th>\n",
              "      <td>Undertale</td>\n",
              "      <td>2015-09-15</td>\n",
              "      <td>['tobyfox', '8-4']</td>\n",
              "      <td>4.2</td>\n",
              "      <td>3500</td>\n",
              "      <td>['Adventure', 'Indie', 'Rpg', 'Turn Based Stra...</td>\n",
              "      <td>28000</td>\n",
              "      <td>679</td>\n",
              "      <td>4900</td>\n",
              "      <td>1800</td>\n",
              "      <td>2015</td>\n",
              "    </tr>\n",
              "    <tr>\n",
              "      <th>4</th>\n",
              "      <td>Hollow Knight</td>\n",
              "      <td>2017-02-24</td>\n",
              "      <td>['Team Cherry']</td>\n",
              "      <td>4.4</td>\n",
              "      <td>3000</td>\n",
              "      <td>['Adventure', 'Indie', 'Platform']</td>\n",
              "      <td>21000</td>\n",
              "      <td>2400</td>\n",
              "      <td>8300</td>\n",
              "      <td>2300</td>\n",
              "      <td>2017</td>\n",
              "    </tr>\n",
              "  </tbody>\n",
              "</table>\n",
              "</div>"
            ],
            "text/plain": [
              "                                     Title Release Date  \\\n",
              "0                               Elden Ring   2022-02-25   \n",
              "1                                    Hades   2019-12-10   \n",
              "2  The Legend of Zelda: Breath of the Wild   2017-03-03   \n",
              "3                                Undertale   2015-09-15   \n",
              "4                            Hollow Knight   2017-02-24   \n",
              "\n",
              "                                                Team  Rating  \\\n",
              "0     ['Bandai Namco Entertainment', 'FromSoftware']     4.5   \n",
              "1                               ['Supergiant Games']     4.3   \n",
              "2  ['Nintendo', 'Nintendo EPD Production Group No...     4.4   \n",
              "3                                 ['tobyfox', '8-4']     4.2   \n",
              "4                                    ['Team Cherry']     4.4   \n",
              "\n",
              "   Number of Reviews                                             Genres  \\\n",
              "0               3900                               ['Adventure', 'Rpg']   \n",
              "1               2900           ['Adventure', 'Brawler', 'Indie', 'Rpg']   \n",
              "2               4300                               ['Adventure', 'Rpg']   \n",
              "3               3500  ['Adventure', 'Indie', 'Rpg', 'Turn Based Stra...   \n",
              "4               3000                 ['Adventure', 'Indie', 'Platform']   \n",
              "\n",
              "   Plays  Playing  Backlogs  Wishlist  Year  \n",
              "0  17000     3800      4600      4800  2022  \n",
              "1  21000     3200      6300      3600  2019  \n",
              "2  30000     2500      5000      2600  2017  \n",
              "3  28000      679      4900      1800  2015  \n",
              "4  21000     2400      8300      2300  2017  "
            ]
          },
          "metadata": {},
          "output_type": "display_data"
        },
        {
          "name": "stdout",
          "output_type": "stream",
          "text": [
            "\n",
            "Missing Values:\n",
            "Title                0\n",
            "Release Date         0\n",
            "Team                 0\n",
            "Rating               0\n",
            "Number of Reviews    0\n",
            "Genres               0\n",
            "Plays                0\n",
            "Playing              0\n",
            "Backlogs             0\n",
            "Wishlist             0\n",
            "Year                 0\n",
            "dtype: int64\n"
          ]
        }
      ],
      "source": [
        "import pandas as pd\n",
        "\n",
        "# Load dataset\n",
        "df = pd.read_csv(r\"C:\\Users\\babat\\Downloads\\vs code\\Genre-Dominance-Analyzer-2\\input\\games.csv\")\n",
        "\n",
        "# Assess missingness before cleaning\n",
        "print(\"Rows before cleaning:\", len(df))\n",
        "\n",
        "# Convert 'k' suffix to numeric values\n",
        "def convert_k_to_numeric(value):\n",
        "    if isinstance(value, str) and 'k' in value.lower():\n",
        "        value = value.lower().replace('k', '').strip()\n",
        "        return float(value) * 1000\n",
        "    return pd.to_numeric(value, errors='coerce')\n",
        "\n",
        "df['Number of Reviews'] = df['Number of Reviews'].apply(convert_k_to_numeric)\n",
        "df['Plays'] = df['Plays'].apply(convert_k_to_numeric)\n",
        "df['Playing'] = df['Playing'].apply(convert_k_to_numeric)\n",
        "df['Backlogs'] = df['Backlogs'].apply(convert_k_to_numeric)\n",
        "df['Wishlist'] = df['Wishlist'].apply(convert_k_to_numeric)\n",
        "\n",
        "# Drop redundant/unused columns\n",
        "columns_to_drop = ['Times Listed', 'Summary', 'Reviews']\n",
        "if 'Unnamed: 0' in df.columns:\n",
        "    columns_to_drop.append('Unnamed: 0')  # Drop first column if it's an index\n",
        "df = df.drop(columns=columns_to_drop, errors='ignore')\n",
        "\n",
        "# Handle missing values\n",
        "df['Team'].fillna('Unknown', inplace=True)  # Impute missing 'Team'\n",
        "df['Rating'].fillna(df['Rating'].median(), inplace=True)  # Impute with median\n",
        "\n",
        "\n",
        "# Standardize genre names\n",
        "df['Genres'] = df['Genres'].str.replace('-', ' ').str.title()\n",
        "\n",
        "# Convert Release Date to datetime and extract year\n",
        "df['Release Date'] = pd.to_datetime(df['Release Date'], errors='coerce')\n",
        "df['Year'] = df['Release Date'].dt.year\n",
        "\n",
        "# Drop rows where 'Release Date' is NaT\n",
        "df = df.dropna(subset=['Release Date'])\n",
        "\n",
        "# Convert specified columns from float to int\n",
        "columns_to_convert = ['Number of Reviews', 'Plays', 'Playing', 'Backlogs', 'Wishlist', 'Year']\n",
        "df[columns_to_convert] = df[columns_to_convert].astype('Int64')\n",
        "\n",
        "# Remove duplicates\n",
        "df.drop_duplicates(subset=['Title'], inplace=True)\n",
        "\n",
        "# Display cleaned data info\n",
        "print(\"\\nCleaned Dataset Info:\")\n",
        "print(df.info())\n",
        "print(\"\\nFirst 5 Rows of Cleaned Data:\")\n",
        "display(df.head())\n",
        "\n",
        "# Check for missing values\n",
        "print(\"\\nMissing Values:\")\n",
        "print(df.isnull().sum())\n",
        "\n",
        "# Save cleaned data to a new CSV file\n",
        "df.to_csv(r\"C:\\Users\\babat\\Downloads\\vs code\\Genre-Dominance-Analyzer-2\\input\\games_cleaned.csv\", index=False)"
      ]
    },
    {
      "cell_type": "markdown",
      "metadata": {},
      "source": [
        "---"
      ]
    },
    {
      "cell_type": "markdown",
      "metadata": {},
      "source": [
        "NOTE"
      ]
    },
    {
      "cell_type": "markdown",
      "metadata": {},
      "source": [
        "* You may add as many sections as you want, as long as it supports your project workflow.\n",
        "* All notebook's cells should be run top-down (you can't create a dynamic wherein a given point you need to go back to a previous cell to execute some task, like go back to a previous cell and refresh a variable content)"
      ]
    },
    {
      "cell_type": "markdown",
      "metadata": {},
      "source": [
        "---"
      ]
    },
    {
      "cell_type": "markdown",
      "metadata": {
        "id": "ltNetd085qHf"
      },
      "source": [
        "# Push files to Repo"
      ]
    },
    {
      "cell_type": "markdown",
      "metadata": {},
      "source": [
        "* In cases where you don't need to push files to Repo, you may replace this section with \"Conclusions and Next Steps\" and state your conclusions and next steps."
      ]
    },
    {
      "cell_type": "code",
      "execution_count": null,
      "metadata": {
        "id": "aKlnIozA4eQO",
        "outputId": "fd09bc1f-adb1-4511-f6ce-492a6af570c0"
      },
      "outputs": [],
      "source": [
        "import os\n",
        "try:\n",
        "  # create your folder here\n",
        "  # os.makedirs(name='')\n",
        "except Exception as e:\n",
        "  print(e)\n"
      ]
    }
  ],
  "metadata": {
    "accelerator": "GPU",
    "colab": {
      "name": "Data Practitioner Jupyter Notebook.ipynb",
      "provenance": [],
      "toc_visible": true
    },
    "kernelspec": {
      "display_name": ".venv",
      "language": "python",
      "name": "python3"
    },
    "language_info": {
      "codemirror_mode": {
        "name": "ipython",
        "version": 3
      },
      "file_extension": ".py",
      "mimetype": "text/x-python",
      "name": "python",
      "nbconvert_exporter": "python",
      "pygments_lexer": "ipython3",
      "version": "3.12.8"
    },
    "orig_nbformat": 2
  },
  "nbformat": 4,
  "nbformat_minor": 2
}
